{
 "cells": [
  {
   "cell_type": "code",
   "execution_count": 1,
   "metadata": {},
   "outputs": [],
   "source": [
    "#This is the assignment given on Print your socio-economic data on python\n",
    "#Date: 3rd December, 2019"
   ]
  },
  {
   "cell_type": "code",
   "execution_count": 5,
   "metadata": {},
   "outputs": [
    {
     "name": "stdout",
     "output_type": "stream",
     "text": [
      "Adebayo Adeniyi Socio_Economic_Characteristics Graduate of Statistics ,Employed ,Married ,Christian  a Nigerian\n"
     ]
    }
   ],
   "source": [
    "my_string=\"Socio_Economic_Characteristics\"\n",
    "print(\"Adebayo Adeniyi\", my_string + \" \"+ \"Graduate of Statistics\" + \" ,\" \"Employed\"+ \" ,\" + \"Married\" + \" ,\" \"Christian\"+ \" \", \"a Nigerian\")\n",
    "\n"
   ]
  }
 ],
 "metadata": {
  "kernelspec": {
   "display_name": "Python 3",
   "language": "python",
   "name": "python3"
  },
  "language_info": {
   "codemirror_mode": {
    "name": "ipython",
    "version": 3
   },
   "file_extension": ".py",
   "mimetype": "text/x-python",
   "name": "python",
   "nbconvert_exporter": "python",
   "pygments_lexer": "ipython3",
   "version": "3.7.4"
  }
 },
 "nbformat": 4,
 "nbformat_minor": 2
}
